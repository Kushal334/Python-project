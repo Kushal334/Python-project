{
 "cells": [
  {
   "cell_type": "code",
   "execution_count": 3,
   "metadata": {},
   "outputs": [],
   "source": [
    "import requests\n",
    "import pandas as pd\n",
    "import numpy as np\n",
    "import matplotlib.pyplot as plt\n",
    "from tqdm import trange\n",
    "\n",
    "pd.set_option(\"display.max_columns\", None)"
   ]
  },
  {
   "cell_type": "code",
   "execution_count": 4,
   "metadata": {},
   "outputs": [],
   "source": [
    "dataset = requests.get('https://data.gov.sg/api/action/datastore_search?resource_id=f1765b54-a209-4718-8d38-a39237f502b3&limit=108048').json()\n",
    "resale_df = pd.DataFrame(dataset['result']['records'])"
   ]
  },
  {
   "cell_type": "code",
   "execution_count": 5,
   "metadata": {},
   "outputs": [
    {
     "name": "stdout",
     "output_type": "stream",
     "text": [
      "Number of rows: 108048\n",
      "Number of columns : 12\n"
     ]
    }
   ],
   "source": [
    "rows, cols = resale_df.shape\n",
    "print('Number of rows: {}'.format(rows))\n",
    "print('Number of columns : {}'.format(cols))"
   ]
  },
  {
   "cell_type": "code",
   "execution_count": 6,
   "metadata": {},
   "outputs": [
    {
     "name": "stdout",
     "output_type": "stream",
     "text": [
      "<class 'pandas.core.frame.DataFrame'>\n",
      "RangeIndex: 108048 entries, 0 to 108047\n",
      "Data columns (total 12 columns):\n",
      " #   Column               Non-Null Count   Dtype \n",
      "---  ------               --------------   ----- \n",
      " 0   town                 108048 non-null  object\n",
      " 1   flat_type            108048 non-null  object\n",
      " 2   flat_model           108048 non-null  object\n",
      " 3   floor_area_sqm       108048 non-null  object\n",
      " 4   street_name          108048 non-null  object\n",
      " 5   resale_price         108048 non-null  object\n",
      " 6   month                108048 non-null  object\n",
      " 7   remaining_lease      108048 non-null  object\n",
      " 8   lease_commence_date  108048 non-null  object\n",
      " 9   storey_range         108048 non-null  object\n",
      " 10  _id                  108048 non-null  int64 \n",
      " 11  block                108048 non-null  object\n",
      "dtypes: int64(1), object(11)\n",
      "memory usage: 9.9+ MB\n"
     ]
    }
   ],
   "source": [
    "resale_df.info()\n"
   ]
  },
  {
   "cell_type": "code",
   "execution_count": 7,
   "metadata": {},
   "outputs": [
    {
     "data": {
      "text/html": [
       "<div>\n",
       "<style scoped>\n",
       "    .dataframe tbody tr th:only-of-type {\n",
       "        vertical-align: middle;\n",
       "    }\n",
       "\n",
       "    .dataframe tbody tr th {\n",
       "        vertical-align: top;\n",
       "    }\n",
       "\n",
       "    .dataframe thead th {\n",
       "        text-align: right;\n",
       "    }\n",
       "</style>\n",
       "<table border=\"1\" class=\"dataframe\">\n",
       "  <thead>\n",
       "    <tr style=\"text-align: right;\">\n",
       "      <th></th>\n",
       "      <th>town</th>\n",
       "      <th>flat_type</th>\n",
       "      <th>flat_model</th>\n",
       "      <th>floor_area_sqm</th>\n",
       "      <th>street_name</th>\n",
       "      <th>resale_price</th>\n",
       "      <th>month</th>\n",
       "      <th>remaining_lease</th>\n",
       "      <th>lease_commence_date</th>\n",
       "      <th>storey_range</th>\n",
       "      <th>_id</th>\n",
       "      <th>block</th>\n",
       "    </tr>\n",
       "  </thead>\n",
       "  <tbody>\n",
       "    <tr>\n",
       "      <th>0</th>\n",
       "      <td>SERANGOON</td>\n",
       "      <td>EXECUTIVE</td>\n",
       "      <td>Maisonette</td>\n",
       "      <td>152</td>\n",
       "      <td>SERANGOON NTH AVE 4</td>\n",
       "      <td>720000</td>\n",
       "      <td>2017-02</td>\n",
       "      <td>74 years 09 months</td>\n",
       "      <td>1992</td>\n",
       "      <td>04 TO 06</td>\n",
       "      <td>1</td>\n",
       "      <td>526</td>\n",
       "    </tr>\n",
       "    <tr>\n",
       "      <th>1</th>\n",
       "      <td>SERANGOON</td>\n",
       "      <td>EXECUTIVE</td>\n",
       "      <td>Maisonette</td>\n",
       "      <td>152</td>\n",
       "      <td>SERANGOON NTH AVE 4</td>\n",
       "      <td>725000</td>\n",
       "      <td>2017-02</td>\n",
       "      <td>74 years 09 months</td>\n",
       "      <td>1992</td>\n",
       "      <td>10 TO 12</td>\n",
       "      <td>2</td>\n",
       "      <td>525</td>\n",
       "    </tr>\n",
       "    <tr>\n",
       "      <th>2</th>\n",
       "      <td>SERANGOON</td>\n",
       "      <td>EXECUTIVE</td>\n",
       "      <td>Maisonette</td>\n",
       "      <td>154</td>\n",
       "      <td>SERANGOON CTRL</td>\n",
       "      <td>938888</td>\n",
       "      <td>2017-02</td>\n",
       "      <td>70 years 11 months</td>\n",
       "      <td>1989</td>\n",
       "      <td>10 TO 12</td>\n",
       "      <td>3</td>\n",
       "      <td>423</td>\n",
       "    </tr>\n",
       "    <tr>\n",
       "      <th>3</th>\n",
       "      <td>TAMPINES</td>\n",
       "      <td>3 ROOM</td>\n",
       "      <td>Simplified</td>\n",
       "      <td>64</td>\n",
       "      <td>TAMPINES ST 83</td>\n",
       "      <td>290000</td>\n",
       "      <td>2017-02</td>\n",
       "      <td>69 years 09 months</td>\n",
       "      <td>1987</td>\n",
       "      <td>01 TO 03</td>\n",
       "      <td>4</td>\n",
       "      <td>849</td>\n",
       "    </tr>\n",
       "    <tr>\n",
       "      <th>4</th>\n",
       "      <td>TAMPINES</td>\n",
       "      <td>3 ROOM</td>\n",
       "      <td>Simplified</td>\n",
       "      <td>64</td>\n",
       "      <td>TAMPINES ST 44</td>\n",
       "      <td>292000</td>\n",
       "      <td>2017-02</td>\n",
       "      <td>69 years 05 months</td>\n",
       "      <td>1987</td>\n",
       "      <td>10 TO 12</td>\n",
       "      <td>5</td>\n",
       "      <td>462</td>\n",
       "    </tr>\n",
       "  </tbody>\n",
       "</table>\n",
       "</div>"
      ],
      "text/plain": [
       "        town  flat_type  flat_model floor_area_sqm          street_name  \\\n",
       "0  SERANGOON  EXECUTIVE  Maisonette            152  SERANGOON NTH AVE 4   \n",
       "1  SERANGOON  EXECUTIVE  Maisonette            152  SERANGOON NTH AVE 4   \n",
       "2  SERANGOON  EXECUTIVE  Maisonette            154       SERANGOON CTRL   \n",
       "3   TAMPINES     3 ROOM  Simplified             64       TAMPINES ST 83   \n",
       "4   TAMPINES     3 ROOM  Simplified             64       TAMPINES ST 44   \n",
       "\n",
       "  resale_price    month     remaining_lease lease_commence_date storey_range  \\\n",
       "0       720000  2017-02  74 years 09 months                1992     04 TO 06   \n",
       "1       725000  2017-02  74 years 09 months                1992     10 TO 12   \n",
       "2       938888  2017-02  70 years 11 months                1989     10 TO 12   \n",
       "3       290000  2017-02  69 years 09 months                1987     01 TO 03   \n",
       "4       292000  2017-02  69 years 05 months                1987     10 TO 12   \n",
       "\n",
       "   _id block  \n",
       "0    1   526  \n",
       "1    2   525  \n",
       "2    3   423  \n",
       "3    4   849  \n",
       "4    5   462  "
      ]
     },
     "execution_count": 7,
     "metadata": {},
     "output_type": "execute_result"
    }
   ],
   "source": [
    "resale_df.head()"
   ]
  },
  {
   "cell_type": "code",
   "execution_count": 11,
   "metadata": {},
   "outputs": [],
   "source": [
    "def onemap_geocoding(address):\n",
    "    result = requests.get('https://developers.onemap.sg/commonapi/search?searchVal='+address+'&returnGeom=Y&getAddrDetails=Y&pageNum=1')\n",
    "    result = eval(result.text)\n",
    "    \n",
    "    if result['found'] > 0:\n",
    "        lat, long = result['results'][0]['LATITUDE'], result['results'][0]['LONGITUDE']\n",
    "        return address, lat, long\n",
    "    else:\n",
    "        pass\n",
    "def geocode_series(addresses):\n",
    "    coord_list = []\n",
    "    failed_list = []\n",
    "    failed = 0\n",
    "    t = trange(len(addresses), desc='Geoding Addresses')\n",
    "    for i in t:\n",
    "        try:\n",
    "            result = onemap_geocoding(addresses[i])\n",
    "            if len(result) > 0:\n",
    "                coord_list.append(result)\n",
    "                t.set_description('{} failed'.format(failed))\n",
    "        except:\n",
    "            failed_list.append(addresses[i])\n",
    "            failed += 1\n",
    "            t.set_description('{} failed'.format(failed))\n",
    "    \n",
    "    return coord_list\n",
    "resale_df['address'] = resale_df['block'] + ' ' + resale_df['street_name']\n",
    "house_addresses = resale_df['address'].unique()\n",
    "\n"
   ]
  },
  {
   "cell_type": "code",
   "execution_count": null,
   "metadata": {},
   "outputs": [],
   "source": [
    "pip install tensoflow"
   ]
  },
  {
   "cell_type": "code",
   "execution_count": null,
   "metadata": {},
   "outputs": [],
   "source": []
  }
 ],
 "metadata": {
  "kernelspec": {
   "display_name": "Python 3",
   "language": "python",
   "name": "python3"
  },
  "language_info": {
   "codemirror_mode": {
    "name": "ipython",
    "version": 3
   },
   "file_extension": ".py",
   "mimetype": "text/x-python",
   "name": "python",
   "nbconvert_exporter": "python",
   "pygments_lexer": "ipython3",
   "version": "3.7.3"
  }
 },
 "nbformat": 4,
 "nbformat_minor": 2
}
