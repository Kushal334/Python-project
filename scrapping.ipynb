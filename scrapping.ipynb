{
 "cells": [
  {
   "cell_type": "code",
   "execution_count": null,
   "metadata": {},
   "outputs": [],
   "source": [
    "import requests\n",
    "from bs4 import BeautifulSoup\n",
    "import pandas as pd\n",
    "\n",
    "# empty list to store data\n",
    "PhoneName = []\n",
    "PhoneRating = []\n",
    "PhoneSpecs = []\n",
    "Price = []\n",
    "\n",
    "# url form which we are extracting data\n",
    "url = \"https://www.flipkart.com/search?q=mobile%20phones&otracker=search&otracker1=search&marketplace=FLIPKART&as-show=on&as=off\"\n",
    "request = requests.get(url).content\n",
    "soup = BeautifulSoup(request, \"html.parser\")\n",
    "data = soup.findAll('a', href=True, attrs={'class': '_1fQZEK'})\n",
    "\n",
    "for i in data:\n",
    "    pName = i.find('div', attrs={'class': '_4rR01T'})\n",
    "    pRating = i.find('div', attrs={'class': '_3LWZlK'})\n",
    "    pSpecs = i.find('div', attrs={'class': 'fMghEO'})\n",
    "    pPrice = i.find('div', attrs={'class': '_30jeq3 _1_WHN1'})\n",
    "\n",
    "    PhoneName.append(pName.text)\n",
    "    PhoneRating.append(pRating.text)\n",
    "    PhoneSpecs.append(pSpecs.text)\n",
    "    Price.append(pPrice.text)\n",
    "\n",
    "df = pd.DataFrame({'Phone Name': PhoneName, 'Rating': PhoneRating, 'Specs': PhoneSpecs, 'Price': Price})\n",
    "df.to_csv('webscrap.csv', index=False, encoding='utf-8')"
   ]
  },
  {
   "cell_type": "code",
   "execution_count": null,
   "metadata": {},
   "outputs": [],
   "source": []
  }
 ],
 "metadata": {
  "kernelspec": {
   "display_name": "Python 3",
   "language": "python",
   "name": "python3"
  },
  "language_info": {
   "codemirror_mode": {
    "name": "ipython",
    "version": 3
   },
   "file_extension": ".py",
   "mimetype": "text/x-python",
   "name": "python",
   "nbconvert_exporter": "python",
   "pygments_lexer": "ipython3",
   "version": "3.7.3"
  }
 },
 "nbformat": 4,
 "nbformat_minor": 2
}
