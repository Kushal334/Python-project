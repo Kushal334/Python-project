{
 "cells": [
  {
   "cell_type": "code",
   "execution_count": 22,
   "metadata": {},
   "outputs": [],
   "source": [
    "\n",
    "import numpy as np\n",
    "import tensorflow as tf\n",
    "from tensorflow import keras"
   ]
  },
  {
   "cell_type": "code",
   "execution_count": 23,
   "metadata": {},
   "outputs": [
    {
     "name": "stdout",
     "output_type": "stream",
     "text": [
      "tf.Tensor(\n",
      "[[4 5 2 9 3]\n",
      " [7 6 2 8 3]], shape=(2, 5), dtype=int64)\n"
     ]
    }
   ],
   "source": [
    "from tensorflow.keras.layers import TextVectorization\n",
    "training_data = np.array([[\"This is the 1st sample.\"], [\"And here's the 2nd sample.\"]])\n",
    "vectorizer = TextVectorization(output_mode=\"int\")\n",
    "vectorizer.adapt(training_data)\n",
    "integer_data = vectorizer(training_data)\n",
    "print(integer_data)"
   ]
  },
  {
   "cell_type": "code",
   "execution_count": 24,
   "metadata": {},
   "outputs": [
    {
     "name": "stdout",
     "output_type": "stream",
     "text": [
      "tf.Tensor(\n",
      "[[0. 1. 1. 1. 1. 0. 1. 1. 1. 0. 0. 0. 0. 0. 0. 1. 1.]\n",
      " [0. 1. 1. 0. 0. 1. 0. 0. 0. 1. 1. 1. 1. 1. 1. 0. 0.]], shape=(2, 17), dtype=float32)\n"
     ]
    }
   ],
   "source": [
    "from tensorflow.keras.layers import TextVectorization\n",
    "training_data = np.array([[\"This is the 1st sample.\"], [\"And here's the 2nd sample.\"]])\n",
    "vectorizer = TextVectorization(output_mode=\"binary\", ngrams=2)\n",
    "vectorizer.adapt(training_data)\n",
    "integer_data = vectorizer(training_data)\n",
    "print(integer_data)"
   ]
  },
  {
   "cell_type": "code",
   "execution_count": 25,
   "metadata": {},
   "outputs": [
    {
     "name": "stdout",
     "output_type": "stream",
     "text": [
      "var: 1.0007\n",
      "mean: -0.0000\n"
     ]
    }
   ],
   "source": [
    "from tensorflow.keras.layers import Normalization\n",
    "training_data = np.random.randint(0, 256, size=(64, 200, 200, 3)).astype(\"float32\")\n",
    "normalizer = Normalization(axis=-1)\n",
    "normalizer.adapt(training_data)\n",
    "\n",
    "normalized_data = normalizer(training_data)\n",
    "print(\"var: %.4f\" % np.var(normalized_data))\n",
    "print(\"mean: %.4f\" % np.mean(normalized_data))"
   ]
  },
  {
   "cell_type": "code",
   "execution_count": 26,
   "metadata": {},
   "outputs": [
    {
     "name": "stdout",
     "output_type": "stream",
     "text": [
      "shape: (64, 150, 150, 3)\n",
      "min: 0.0\n",
      "max: 1.0\n"
     ]
    }
   ],
   "source": [
    "from tensorflow.keras.layers import CenterCrop\n",
    "from tensorflow.keras.layers import Rescaling\n",
    "\n",
    "# Example image data, with values in the [0, 255] range\n",
    "training_data = np.random.randint(0, 256, size=(64, 200, 200, 3)).astype(\"float32\")\n",
    "\n",
    "cropper = CenterCrop(height=150, width=150)\n",
    "scaler = Rescaling(scale=1.0 / 255)\n",
    "\n",
    "output_data = scaler(cropper(training_data))\n",
    "print(\"shape:\", output_data.shape)\n",
    "print(\"min:\", np.min(output_data))\n",
    "print(\"max:\", np.max(output_data))"
   ]
  },
  {
   "cell_type": "code",
   "execution_count": 27,
   "metadata": {},
   "outputs": [],
   "source": [
    "inputs = keras.Input(shape=(None, None, 3))"
   ]
  },
  {
   "cell_type": "code",
   "execution_count": 28,
   "metadata": {},
   "outputs": [],
   "source": [
    "\n",
    "from tensorflow.keras import layers\n",
    "x = CenterCrop(height=150, width=150)(inputs)\n",
    "x = Rescaling(scale=1.0 / 255)(x)\n",
    "\n",
    "x = layers.Conv2D(filters=32, kernel_size=(3, 3), activation=\"relu\")(x)\n",
    "x = layers.MaxPooling2D(pool_size=(3, 3))(x)\n",
    "x = layers.Conv2D(filters=32, kernel_size=(3, 3), activation=\"relu\")(x)\n",
    "x = layers.MaxPooling2D(pool_size=(3, 3))(x)\n",
    "x = layers.Conv2D(filters=32, kernel_size=(3, 3), activation=\"relu\")(x)\n",
    "x = layers.GlobalAveragePooling2D()(x)\n",
    "num_classes = 10\n",
    "outputs = layers.Dense(num_classes, activation=\"softmax\")(x)"
   ]
  },
  {
   "cell_type": "code",
   "execution_count": 29,
   "metadata": {},
   "outputs": [
    {
     "name": "stdout",
     "output_type": "stream",
     "text": [
      "(64, 10)\n"
     ]
    }
   ],
   "source": [
    "model = keras.Model(inputs=inputs, outputs=outputs)\n",
    "data = np.random.randint(0, 256, size=(64, 200, 200, 3)).astype(\"float32\")\n",
    "processed_data = model(data)\n",
    "print(processed_data.shape)"
   ]
  },
  {
   "cell_type": "code",
   "execution_count": 30,
   "metadata": {},
   "outputs": [
    {
     "name": "stdout",
     "output_type": "stream",
     "text": [
      "Model: \"model\"\n",
      "_________________________________________________________________\n",
      "Layer (type)                 Output Shape              Param #   \n",
      "=================================================================\n",
      "input_1 (InputLayer)         [(None, None, None, 3)]   0         \n",
      "_________________________________________________________________\n",
      "center_crop_1 (CenterCrop)   (None, 150, 150, 3)       0         \n",
      "_________________________________________________________________\n",
      "rescaling_1 (Rescaling)      (None, 150, 150, 3)       0         \n",
      "_________________________________________________________________\n",
      "conv2d (Conv2D)              (None, 148, 148, 32)      896       \n",
      "_________________________________________________________________\n",
      "max_pooling2d (MaxPooling2D) (None, 49, 49, 32)        0         \n",
      "_________________________________________________________________\n",
      "conv2d_1 (Conv2D)            (None, 47, 47, 32)        9248      \n",
      "_________________________________________________________________\n",
      "max_pooling2d_1 (MaxPooling2 (None, 15, 15, 32)        0         \n",
      "_________________________________________________________________\n",
      "conv2d_2 (Conv2D)            (None, 13, 13, 32)        9248      \n",
      "_________________________________________________________________\n",
      "global_average_pooling2d (Gl (None, 32)                0         \n",
      "_________________________________________________________________\n",
      "dense (Dense)                (None, 10)                330       \n",
      "=================================================================\n",
      "Total params: 19,722\n",
      "Trainable params: 19,722\n",
      "Non-trainable params: 0\n",
      "_________________________________________________________________\n"
     ]
    }
   ],
   "source": [
    "model.summary()"
   ]
  },
  {
   "cell_type": "code",
   "execution_count": 40,
   "metadata": {},
   "outputs": [],
   "source": [
    "import numpy as np\n",
    "from random import  randint\n",
    "from sklearn.utils import shuffle\n",
    "from sklearn.preprocessing import MinMaxScaler"
   ]
  },
  {
   "cell_type": "code",
   "execution_count": 36,
   "metadata": {},
   "outputs": [],
   "source": [
    "train_labels=[]\n",
    "train_samples=[]"
   ]
  },
  {
   "cell_type": "code",
   "execution_count": 41,
   "metadata": {},
   "outputs": [],
   "source": [
    "for i in range(50):\n",
    "    random_younger= randint(13,64)\n",
    "    train_samples.append(random_younger)\n",
    "    train_labels.append(1) \n",
    "    random_older= randint(65,100)\n",
    "    train_samples.append(random_older)\n",
    "    train_labels.append(0)\n",
    "\n",
    "for i in range(1000):\n",
    "    random_younger= randint(13,64)\n",
    "    train_samples.append(random_younger)\n",
    "    train_labels.append(0)\n",
    "    random_older= randint(65,100)\n",
    "    train_samples.append(random_older)\n",
    "    train_labels.append(1)"
   ]
  },
  {
   "cell_type": "code",
   "execution_count": 42,
   "metadata": {},
   "outputs": [],
   "source": [
    "train_labels=np.array(train_labels)\n",
    "train_samples=np.array(train_samples)\n",
    "train_labels,train_samples=shuffle(train_labels,train_samples)"
   ]
  },
  {
   "cell_type": "code",
   "execution_count": 43,
   "metadata": {},
   "outputs": [],
   "source": [
    "scaler = MinMaxScaler(feature_range=(0,1))\n",
    "scaled_train_samples = scaler.fit_transform(train_samples.reshape(-1,1))"
   ]
  },
  {
   "cell_type": "code",
   "execution_count": 44,
   "metadata": {},
   "outputs": [],
   "source": [
    "import tensorflow\n",
    "from tensorflow import keras\n",
    "from tensorflow.keras.models import Sequential\n",
    "from tensorflow.keras.layers import Activation, Dense, BatchNormalization, Conv2D\n",
    "from tensorflow.keras.optimizers import Adam\n",
    "\n",
    "#for training\n",
    "from tensorflow.keras.metrics import categorical_crossentropy\n",
    "from tensorflow.keras.preprocessing.image import ImageDataGenerator"
   ]
  },
  {
   "cell_type": "code",
   "execution_count": 45,
   "metadata": {},
   "outputs": [],
   "source": [
    "\n",
    "model = Sequential([\n",
    "    Dense(units=16, input_shape=(1,), activation='relu'),\n",
    "    Dense(units=32, activation='relu'),\n",
    "    Dense(units=2, activation='softmax')\n",
    "])"
   ]
  },
  {
   "cell_type": "code",
   "execution_count": 46,
   "metadata": {},
   "outputs": [
    {
     "name": "stdout",
     "output_type": "stream",
     "text": [
      "Model: \"sequential\"\n",
      "_________________________________________________________________\n",
      "Layer (type)                 Output Shape              Param #   \n",
      "=================================================================\n",
      "dense_1 (Dense)              (None, 16)                32        \n",
      "_________________________________________________________________\n",
      "dense_2 (Dense)              (None, 32)                544       \n",
      "_________________________________________________________________\n",
      "dense_3 (Dense)              (None, 2)                 66        \n",
      "=================================================================\n",
      "Total params: 642\n",
      "Trainable params: 642\n",
      "Non-trainable params: 0\n",
      "_________________________________________________________________\n"
     ]
    }
   ],
   "source": [
    "model.summary()\n"
   ]
  },
  {
   "cell_type": "code",
   "execution_count": 47,
   "metadata": {},
   "outputs": [],
   "source": [
    "model.compile(optimizer=Adam(learning_rate=0.0001), loss='sparse_categorical_crossentropy', metrics=['accuracy'])"
   ]
  },
  {
   "cell_type": "code",
   "execution_count": 48,
   "metadata": {},
   "outputs": [
    {
     "name": "stdout",
     "output_type": "stream",
     "text": [
      "Epoch 1/30\n",
      "210/210 - 0s - loss: 0.6916 - accuracy: 0.6376\n",
      "Epoch 2/30\n",
      "210/210 - 0s - loss: 0.6596 - accuracy: 0.7710\n",
      "Epoch 3/30\n",
      "210/210 - 0s - loss: 0.6276 - accuracy: 0.8190\n",
      "Epoch 4/30\n",
      "210/210 - 0s - loss: 0.5967 - accuracy: 0.8490\n",
      "Epoch 5/30\n",
      "210/210 - 0s - loss: 0.5653 - accuracy: 0.8443\n",
      "Epoch 6/30\n",
      "210/210 - 0s - loss: 0.5331 - accuracy: 0.8543\n",
      "Epoch 7/30\n",
      "210/210 - 0s - loss: 0.5015 - accuracy: 0.8686\n",
      "Epoch 8/30\n",
      "210/210 - 0s - loss: 0.4711 - accuracy: 0.8767\n",
      "Epoch 9/30\n",
      "210/210 - 0s - loss: 0.4408 - accuracy: 0.8871\n",
      "Epoch 10/30\n",
      "210/210 - 0s - loss: 0.4101 - accuracy: 0.8981\n",
      "Epoch 11/30\n",
      "210/210 - 0s - loss: 0.3862 - accuracy: 0.9057\n",
      "Epoch 12/30\n",
      "210/210 - 0s - loss: 0.3663 - accuracy: 0.9090\n",
      "Epoch 13/30\n",
      "210/210 - 0s - loss: 0.3492 - accuracy: 0.9124\n",
      "Epoch 14/30\n",
      "210/210 - 0s - loss: 0.3349 - accuracy: 0.9152\n",
      "Epoch 15/30\n",
      "210/210 - 0s - loss: 0.3224 - accuracy: 0.9181\n",
      "Epoch 16/30\n",
      "210/210 - 0s - loss: 0.3121 - accuracy: 0.9205\n",
      "Epoch 17/30\n",
      "210/210 - 0s - loss: 0.3034 - accuracy: 0.9210\n",
      "Epoch 18/30\n",
      "210/210 - 0s - loss: 0.2960 - accuracy: 0.9243\n",
      "Epoch 19/30\n",
      "210/210 - 0s - loss: 0.2898 - accuracy: 0.9243\n",
      "Epoch 20/30\n",
      "210/210 - 0s - loss: 0.2844 - accuracy: 0.9243\n",
      "Epoch 21/30\n",
      "210/210 - 0s - loss: 0.2799 - accuracy: 0.9262\n",
      "Epoch 22/30\n",
      "210/210 - 0s - loss: 0.2760 - accuracy: 0.9314\n",
      "Epoch 23/30\n",
      "210/210 - 0s - loss: 0.2727 - accuracy: 0.9271\n",
      "Epoch 24/30\n",
      "210/210 - 0s - loss: 0.2695 - accuracy: 0.9243\n",
      "Epoch 25/30\n",
      "210/210 - 0s - loss: 0.2671 - accuracy: 0.9333\n",
      "Epoch 26/30\n",
      "210/210 - 0s - loss: 0.2649 - accuracy: 0.9295\n",
      "Epoch 27/30\n",
      "210/210 - 0s - loss: 0.2628 - accuracy: 0.9333\n",
      "Epoch 28/30\n",
      "210/210 - 0s - loss: 0.2610 - accuracy: 0.9338\n",
      "Epoch 29/30\n",
      "210/210 - 0s - loss: 0.2595 - accuracy: 0.9333\n",
      "Epoch 30/30\n",
      "210/210 - 0s - loss: 0.2580 - accuracy: 0.9324\n"
     ]
    },
    {
     "data": {
      "text/plain": [
       "<keras.callbacks.History at 0x7f1604e5acc0>"
      ]
     },
     "execution_count": 48,
     "metadata": {},
     "output_type": "execute_result"
    }
   ],
   "source": [
    "model.fit(x=scaled_train_samples, y=train_labels, batch_size=10, epochs=30, verbose=2)"
   ]
  },
  {
   "cell_type": "code",
   "execution_count": 49,
   "metadata": {},
   "outputs": [
    {
     "name": "stdout",
     "output_type": "stream",
     "text": [
      "Epoch 1/30\n",
      "189/189 - 0s - loss: 0.2538 - accuracy: 0.9317 - val_loss: 0.2826 - val_accuracy: 0.9333\n",
      "Epoch 2/30\n",
      "189/189 - 0s - loss: 0.2526 - accuracy: 0.9333 - val_loss: 0.2818 - val_accuracy: 0.9333\n",
      "Epoch 3/30\n",
      "189/189 - 0s - loss: 0.2515 - accuracy: 0.9333 - val_loss: 0.2810 - val_accuracy: 0.9333\n",
      "Epoch 4/30\n",
      "189/189 - 0s - loss: 0.2506 - accuracy: 0.9333 - val_loss: 0.2804 - val_accuracy: 0.9333\n",
      "Epoch 5/30\n",
      "189/189 - 0s - loss: 0.2497 - accuracy: 0.9328 - val_loss: 0.2799 - val_accuracy: 0.9333\n",
      "Epoch 6/30\n",
      "189/189 - 0s - loss: 0.2487 - accuracy: 0.9317 - val_loss: 0.2797 - val_accuracy: 0.9429\n",
      "Epoch 7/30\n",
      "189/189 - 0s - loss: 0.2480 - accuracy: 0.9344 - val_loss: 0.2786 - val_accuracy: 0.9333\n",
      "Epoch 8/30\n",
      "189/189 - 0s - loss: 0.2473 - accuracy: 0.9339 - val_loss: 0.2781 - val_accuracy: 0.9333\n",
      "Epoch 9/30\n",
      "189/189 - 0s - loss: 0.2466 - accuracy: 0.9333 - val_loss: 0.2777 - val_accuracy: 0.9333\n",
      "Epoch 10/30\n",
      "189/189 - 0s - loss: 0.2458 - accuracy: 0.9381 - val_loss: 0.2770 - val_accuracy: 0.9333\n",
      "Epoch 11/30\n",
      "189/189 - 0s - loss: 0.2452 - accuracy: 0.9349 - val_loss: 0.2764 - val_accuracy: 0.9333\n",
      "Epoch 12/30\n",
      "189/189 - 0s - loss: 0.2446 - accuracy: 0.9349 - val_loss: 0.2760 - val_accuracy: 0.9333\n",
      "Epoch 13/30\n",
      "189/189 - 0s - loss: 0.2440 - accuracy: 0.9333 - val_loss: 0.2757 - val_accuracy: 0.9333\n",
      "Epoch 14/30\n",
      "189/189 - 0s - loss: 0.2435 - accuracy: 0.9354 - val_loss: 0.2752 - val_accuracy: 0.9333\n",
      "Epoch 15/30\n",
      "189/189 - 0s - loss: 0.2430 - accuracy: 0.9344 - val_loss: 0.2745 - val_accuracy: 0.9333\n",
      "Epoch 16/30\n",
      "189/189 - 0s - loss: 0.2425 - accuracy: 0.9365 - val_loss: 0.2744 - val_accuracy: 0.9333\n",
      "Epoch 17/30\n",
      "189/189 - 0s - loss: 0.2419 - accuracy: 0.9354 - val_loss: 0.2739 - val_accuracy: 0.9333\n",
      "Epoch 18/30\n",
      "189/189 - 0s - loss: 0.2414 - accuracy: 0.9365 - val_loss: 0.2731 - val_accuracy: 0.9333\n",
      "Epoch 19/30\n",
      "189/189 - 0s - loss: 0.2411 - accuracy: 0.9360 - val_loss: 0.2732 - val_accuracy: 0.9333\n",
      "Epoch 20/30\n",
      "189/189 - 0s - loss: 0.2405 - accuracy: 0.9333 - val_loss: 0.2725 - val_accuracy: 0.9333\n",
      "Epoch 21/30\n",
      "189/189 - 0s - loss: 0.2401 - accuracy: 0.9349 - val_loss: 0.2718 - val_accuracy: 0.9333\n",
      "Epoch 22/30\n",
      "189/189 - 0s - loss: 0.2395 - accuracy: 0.9381 - val_loss: 0.2711 - val_accuracy: 0.9333\n",
      "Epoch 23/30\n",
      "189/189 - 0s - loss: 0.2392 - accuracy: 0.9333 - val_loss: 0.2709 - val_accuracy: 0.9333\n",
      "Epoch 24/30\n",
      "189/189 - 0s - loss: 0.2388 - accuracy: 0.9370 - val_loss: 0.2704 - val_accuracy: 0.9333\n",
      "Epoch 25/30\n",
      "189/189 - 0s - loss: 0.2383 - accuracy: 0.9339 - val_loss: 0.2702 - val_accuracy: 0.9333\n",
      "Epoch 26/30\n",
      "189/189 - 0s - loss: 0.2382 - accuracy: 0.9328 - val_loss: 0.2702 - val_accuracy: 0.9429\n",
      "Epoch 27/30\n",
      "189/189 - 0s - loss: 0.2377 - accuracy: 0.9344 - val_loss: 0.2694 - val_accuracy: 0.9333\n",
      "Epoch 28/30\n",
      "189/189 - 0s - loss: 0.2373 - accuracy: 0.9354 - val_loss: 0.2692 - val_accuracy: 0.9429\n",
      "Epoch 29/30\n",
      "189/189 - 0s - loss: 0.2370 - accuracy: 0.9354 - val_loss: 0.2684 - val_accuracy: 0.9333\n",
      "Epoch 30/30\n",
      "189/189 - 0s - loss: 0.2366 - accuracy: 0.9392 - val_loss: 0.2681 - val_accuracy: 0.9333\n"
     ]
    },
    {
     "data": {
      "text/plain": [
       "<keras.callbacks.History at 0x7f1604e0ea90>"
      ]
     },
     "execution_count": 49,
     "metadata": {},
     "output_type": "execute_result"
    }
   ],
   "source": [
    "\n",
    "model.fit(\n",
    "      x=scaled_train_samples\n",
    "    , y=train_labels\n",
    "    , validation_split=0.1\n",
    "    , batch_size=10\n",
    "    , epochs=30\n",
    "    , verbose=2\n",
    ")\n"
   ]
  },
  {
   "cell_type": "code",
   "execution_count": 50,
   "metadata": {},
   "outputs": [],
   "source": [
    "test_lables=[]\n",
    "test_samples=[]"
   ]
  },
  {
   "cell_type": "code",
   "execution_count": 51,
   "metadata": {},
   "outputs": [],
   "source": [
    "for i in range(10):\n",
    "    #     younger individuals who did experience side effects\n",
    "    random_younger=randint(13,64)\n",
    "    test_samples.append(random_younger)\n",
    "    test_lables.append(1)\n",
    "    \n",
    "      #     older individuals who did not experience side effects\n",
    "    random_older=randint(65,100)\n",
    "    test_samples.append(random_older)\n",
    "    test_lables.append(0)\n",
    "    \n",
    "for i in range(200):\n",
    "    #     younger individuals who did not experience side effects\n",
    "    random_younger=randint(13,64)\n",
    "    test_samples.append(random_younger)\n",
    "    test_lables.append(0)\n",
    "    \n",
    "      #     older individuals who did experience side effects\n",
    "    random_older=randint(65,100)\n",
    "    test_samples.append(random_older)\n",
    "    test_lables.append(1)"
   ]
  },
  {
   "cell_type": "code",
   "execution_count": 52,
   "metadata": {},
   "outputs": [],
   "source": [
    "test_lables=np.array(test_lables)\n",
    "test_samples=np.array(test_samples)\n",
    "\n",
    "# Shuffle \n",
    "test_lables, test_samples = shuffle(test_lables, test_samples)\n",
    "\n",
    "# tranform to 2D \n",
    "scaled_test_samples = scaler.fit_transform(test_samples.reshape(-1,1))"
   ]
  },
  {
   "cell_type": "code",
   "execution_count": 53,
   "metadata": {},
   "outputs": [],
   "source": [
    "predictions = model.predict(\n",
    "      x=scaled_test_samples\n",
    "    , batch_size=10\n",
    "    , verbose=0\n",
    ")"
   ]
  },
  {
   "cell_type": "code",
   "execution_count": 54,
   "metadata": {},
   "outputs": [],
   "source": [
    "rounded_predictions=np.argmax(predictions, axis=-1)"
   ]
  },
  {
   "cell_type": "code",
   "execution_count": 55,
   "metadata": {},
   "outputs": [],
   "source": [
    "%matplotlib inline\n",
    "from sklearn.metrics import confusion_matrix\n",
    "import itertools\n",
    "import matplotlib.pyplot as plt"
   ]
  },
  {
   "cell_type": "code",
   "execution_count": 56,
   "metadata": {},
   "outputs": [],
   "source": [
    "cm = confusion_matrix(y_true=test_lables, y_pred=rounded_predictions)\n",
    "def plot_confusion_matrix(cm, classes,\n",
    "                        normalize=False,\n",
    "                        title='Confusion matrix',\n",
    "                        cmap=plt.cm.Blues):\n",
    "    \"\"\"\n",
    "    This function prints and plots the confusion matrix.\n",
    "    Normalization can be applied by setting `normalize=True`.\n",
    "    \"\"\"\n",
    "    plt.imshow(cm, interpolation='nearest', cmap=cmap)\n",
    "    plt.title(title)\n",
    "    plt.colorbar()\n",
    "    tick_marks = np.arange(len(classes))\n",
    "    plt.xticks(tick_marks, classes, rotation=45)\n",
    "    plt.yticks(tick_marks, classes)\n",
    "\n",
    "    if normalize:\n",
    "        cm = cm.astype('float') / cm.sum(axis=1)[:, np.newaxis]\n",
    "        print(\"Normalized confusion matrix\")\n",
    "    else:\n",
    "        print('Confusion matrix, without normalization')\n",
    "\n",
    "    print(cm)\n",
    "\n",
    "    thresh = cm.max() / 2.\n",
    "    for i, j in itertools.product(range(cm.shape[0]), range(cm.shape[1])):\n",
    "        plt.text(j, i, cm[i, j],\n",
    "            horizontalalignment=\"center\",\n",
    "            color=\"white\" if cm[i, j] > thresh else \"black\")\n",
    "\n",
    "    plt.tight_layout()\n",
    "    plt.ylabel('True label')\n",
    "    plt.xlabel('Predicted label')"
   ]
  },
  {
   "cell_type": "code",
   "execution_count": 57,
   "metadata": {},
   "outputs": [],
   "source": [
    "cm_plot_labels = ['no_side_effects','had_side_effects']\n"
   ]
  },
  {
   "cell_type": "code",
   "execution_count": 58,
   "metadata": {},
   "outputs": [
    {
     "name": "stdout",
     "output_type": "stream",
     "text": [
      "Confusion matrix, without normalization\n",
      "[[191  19]\n",
      " [  9 201]]\n"
     ]
    },
    {
     "data": {
      "image/png": "[encoded data removed]",
      "text/plain": [
       "<Figure size 432x288 with 2 Axes>"
      ]
     },
     "metadata": {
      "needs_background": "light"
     },
     "output_type": "display_data"
    }
   ],
   "source": [
    "plot_confusion_matrix(cm=cm, classes=cm_plot_labels, title='Confusion Matrix')\n"
   ]
  },
  {
   "cell_type": "code",
   "execution_count": 59,
   "metadata": {},
   "outputs": [
    {
     "data": {
      "text/plain": [
       "'{\"class_name\": \"Sequential\", \"config\": {\"name\": \"sequential\", \"layers\": [{\"class_name\": \"InputLayer\", \"config\": {\"batch_input_shape\": [null, 1], \"dtype\": \"float32\", \"sparse\": false, \"ragged\": false, \"name\": \"dense_1_input\"}}, {\"class_name\": \"Dense\", \"config\": {\"name\": \"dense_1\", \"trainable\": true, \"batch_input_shape\": [null, 1], \"dtype\": \"float32\", \"units\": 16, \"activation\": \"relu\", \"use_bias\": true, \"kernel_initializer\": {\"class_name\": \"GlorotUniform\", \"config\": {\"seed\": null}}, \"bias_initializer\": {\"class_name\": \"Zeros\", \"config\": {}}, \"kernel_regularizer\": null, \"bias_regularizer\": null, \"activity_regularizer\": null, \"kernel_constraint\": null, \"bias_constraint\": null}}, {\"class_name\": \"Dense\", \"config\": {\"name\": \"dense_2\", \"trainable\": true, \"dtype\": \"float32\", \"units\": 32, \"activation\": \"relu\", \"use_bias\": true, \"kernel_initializer\": {\"class_name\": \"GlorotUniform\", \"config\": {\"seed\": null}}, \"bias_initializer\": {\"class_name\": \"Zeros\", \"config\": {}}, \"kernel_regularizer\": null, \"bias_regularizer\": null, \"activity_regularizer\": null, \"kernel_constraint\": null, \"bias_constraint\": null}}, {\"class_name\": \"Dense\", \"config\": {\"name\": \"dense_3\", \"trainable\": true, \"dtype\": \"float32\", \"units\": 2, \"activation\": \"softmax\", \"use_bias\": true, \"kernel_initializer\": {\"class_name\": \"GlorotUniform\", \"config\": {\"seed\": null}}, \"bias_initializer\": {\"class_name\": \"Zeros\", \"config\": {}}, \"kernel_regularizer\": null, \"bias_regularizer\": null, \"activity_regularizer\": null, \"kernel_constraint\": null, \"bias_constraint\": null}}]}, \"keras_version\": \"2.6.0\", \"backend\": \"tensorflow\"}'"
      ]
     },
     "execution_count": 59,
     "metadata": {},
     "output_type": "execute_result"
    }
   ],
   "source": [
    "json_string = model.to_json()\n",
    "json_string"
   ]
  },
  {
   "cell_type": "code",
   "execution_count": 60,
   "metadata": {},
   "outputs": [],
   "source": [
    "from tensorflow.keras.models import model_from_json\n",
    "model_architecture=model_from_json(json_string)"
   ]
  },
  {
   "cell_type": "code",
   "execution_count": 61,
   "metadata": {},
   "outputs": [
    {
     "name": "stdout",
     "output_type": "stream",
     "text": [
      "Model: \"sequential\"\n",
      "_________________________________________________________________\n",
      "Layer (type)                 Output Shape              Param #   \n",
      "=================================================================\n",
      "dense_1 (Dense)              (None, 16)                32        \n",
      "_________________________________________________________________\n",
      "dense_2 (Dense)              (None, 32)                544       \n",
      "_________________________________________________________________\n",
      "dense_3 (Dense)              (None, 2)                 66        \n",
      "=================================================================\n",
      "Total params: 642\n",
      "Trainable params: 642\n",
      "Non-trainable params: 0\n",
      "_________________________________________________________________\n"
     ]
    }
   ],
   "source": [
    "model_architecture.summary()\n"
   ]
  },
  {
   "cell_type": "code",
   "execution_count": null,
   "metadata": {},
   "outputs": [],
   "source": []
  }
 ],
 "metadata": {
  "kernelspec": {
   "display_name": "Python 3",
   "language": "python",
   "name": "python3"
  },
  "language_info": {
   "codemirror_mode": {
    "name": "ipython",
    "version": 3
   },
   "file_extension": ".py",
   "mimetype": "text/x-python",
   "name": "python",
   "nbconvert_exporter": "python",
   "pygments_lexer": "ipython3",
   "version": "3.7.3"
  }
 },
 "nbformat": 4,
 "nbformat_minor": 2
}
