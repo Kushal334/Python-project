{
 "cells": [
  {
   "cell_type": "code",
   "execution_count": 3,
   "metadata": {},
   "outputs": [],
   "source": [
    "import matplotlib\n",
    "import matplotlib.pyplot as plt\n",
    "from matplotlib.ticker import MaxNLocator\n",
    "from collections import namedtuple\n",
    "import numpy as np"
   ]
  },
  {
   "cell_type": "code",
   "execution_count": 4,
   "metadata": {},
   "outputs": [],
   "source": [
    "np.random.seed(42)\n",
    "\n",
    "Student = namedtuple('Student', ['name', 'grade', 'gender'])\n",
    "Score = namedtuple('Score', ['score', 'percentile'])\n",
    "\n",
    "# GLOBAL CONSTANTS\n",
    "testNames = ['Pacer Test', 'Flexed Arm\\n Hang', 'Mile Run', 'Agility',\n",
    "             'Push Ups']\n",
    "testMeta = dict(zip(testNames, ['laps', 'sec', 'min:sec', 'sec', '']))"
   ]
  },
  {
   "cell_type": "code",
   "execution_count": 5,
   "metadata": {},
   "outputs": [],
   "source": [
    "def attach_ordinal(num):\n",
    "    #helper function to add ordinal string to integers\n",
    "\n",
    "    #1 -> 1st\n",
    "    #56 -> 56th\n",
    "\n",
    "    suffixes = {str(i): v\n",
    "                for i, v in enumerate(['th', 'st', 'nd', 'rd', 'th',\n",
    "                                       'th', 'th', 'th', 'th', 'th'])}\n",
    "\n",
    "    v = str(num)\n",
    "    # special case early teens\n",
    "    if v in {'11', '12', '13'}:\n",
    "        return v + 'th'\n",
    "    return v + suffixes[v[-1]]"
   ]
  },
  {
   "cell_type": "code",
   "execution_count": 6,
   "metadata": {},
   "outputs": [],
   "source": [
    "def format_score(scr, test):\n",
    "    #Build up the score labels for the right Y-axis by first\n",
    "    #appending a carriage return to each string and then tacking on\n",
    "    #the appropriate meta information (i.e., 'laps' vs 'seconds'). We\n",
    "    #want the labels centered on the ticks, so if there is no meta\n",
    "    #info (like for pushups) then don't add the carriage return to\n",
    "    #the string\n",
    "    \n",
    "    md = testMeta[test]\n",
    "    if md:\n",
    "        return '{0}\\n{1}'.format(scr, md)\n",
    "    else:\n",
    "        return scr"
   ]
  },
  {
   "cell_type": "code",
   "execution_count": 7,
   "metadata": {},
   "outputs": [],
   "source": [
    "def format_ycursor(y):\n",
    "    y = int(y)\n",
    "    if y < 0 or y >= len(testNames):\n",
    "        return ''\n",
    "    else:\n",
    "        return testNames[y]"
   ]
  },
  {
   "cell_type": "code",
   "execution_count": 8,
   "metadata": {},
   "outputs": [],
   "source": [
    "def plot_student_results(student, scores, cohort_size):\n",
    "    #  create the figure\n",
    "    fig, ax1 = plt.subplots(figsize=(9, 7))\n",
    "    fig.subplots_adjust(left=0.115, right=0.88)\n",
    "    fig.canvas.set_window_title('Eldorado K-8 Fitness Chart')\n",
    "\n",
    "    pos = np.arange(len(testNames))\n",
    "\n",
    "    rects = ax1.barh(pos, [scores[k].percentile for k in testNames],\n",
    "                     align='center',\n",
    "                     height=0.5,\n",
    "                     tick_label=testNames)\n",
    "\n",
    "    ax1.set_title(student.name)\n",
    "\n",
    "    ax1.set_xlim([0, 100])\n",
    "    ax1.xaxis.set_major_locator(MaxNLocator(11))\n",
    "    ax1.xaxis.grid(True, linestyle='--', which='major',\n",
    "                   color='grey', alpha=.25)\n",
    "\n",
    "    # Plot a solid vertical gridline to highlight the median position\n",
    "    ax1.axvline(50, color='grey', alpha=0.25)\n",
    "    ax2 = ax1.twinx()\n",
    "\n",
    "    scoreLabels = [format_score(scores[k].score, k) for k in testNames]\n",
    "\n",
    "    # set the tick locations\n",
    "    ax2.set_yticks(pos)\n",
    "    # make sure that the limits are set equally on both yaxis so the\n",
    "    # ticks line up\n",
    "    ax2.set_ylim(ax1.get_ylim())\n",
    "\n",
    "    # set the tick labels\n",
    "    ax2.set_yticklabels(scoreLabels)\n",
    "\n",
    "    ax2.set_ylabel('Test Scores')\n",
    "\n",
    "    xlabel = ('Percentile Ranking Across {grade} Grade {gender}s\\n'\n",
    "              'Cohort Size: {cohort_size}')\n",
    "    ax1.set_xlabel(xlabel.format(grade=attach_ordinal(student.grade),\n",
    "                                 gender=student.gender.title(),\n",
    "                                 cohort_size=cohort_size))\n",
    "\n",
    "    rect_labels = []\n",
    "    # Lastly, write in the ranking inside each bar to aid in interpretation\n",
    "    for rect in rects:\n",
    "        # Rectangle widths are already integer-valued but are floating\n",
    "        # type, so it helps to remove the trailing decimal point and 0 by\n",
    "        # converting width to int type\n",
    "        width = int(rect.get_width())\n",
    "        rankStr = attach_ordinal(width)\n",
    "        # The bars aren't wide enough to print the ranking inside\n",
    "        if width < 40:\n",
    "            # Shift the text to the right side of the right edge\n",
    "            xloc = 5\n",
    "            # Black against white background\n",
    "            clr = 'black'\n",
    "            align = 'left'\n",
    "        else:\n",
    "            # Shift the text to the left side of the right edge\n",
    "            xloc = -5\n",
    "            # White on magenta\n",
    "            clr = 'white'\n",
    "            align = 'right'\n",
    "\n",
    "        # Center the text vertically in the bar\n",
    "        yloc = rect.get_y() + rect.get_height() / 2\n",
    "        label = ax1.annotate(rankStr, xy=(width, yloc), xytext=(xloc, 0),\n",
    "                            textcoords=\"offset points\",\n",
    "                            ha=align, va='center',\n",
    "                            color=clr, weight='bold', clip_on=True)\n",
    "        rect_labels.append(label)\n",
    "\n",
    "    # make the interactive mouse over give the bar title\n",
    "    ax2.fmt_ydata = format_ycursor\n",
    "    # return all of the artists created\n",
    "    return {'fig': fig,\n",
    "            'ax': ax1,\n",
    "            'ax_right': ax2,\n",
    "            'bars': rects,\n",
    "            'perc_labels': rect_labels}"
   ]
  },
  {
   "cell_type": "code",
   "execution_count": 12,
   "metadata": {},
   "outputs": [
    {
     "name": "stderr",
     "output_type": "stream",
     "text": [
      "/snap/jupyter/6/lib/python3.7/site-packages/ipykernel_launcher.py:5: MatplotlibDeprecationWarning: \n",
      "The set_window_title function was deprecated in Matplotlib 3.4 and will be removed two minor releases later. Use manager.set_window_title or GUI-specific methods instead.\n",
      "  \"\"\"\n"
     ]
    },
    {
     "data": {
      "image/png": "[encoded data removed]",
      "text/plain": [
       "<Figure size 648x504 with 2 Axes>"
      ]
     },
     "metadata": {
      "needs_background": "light"
     },
     "output_type": "display_data"
    }
   ],
   "source": [
    "student = Student('Ranjit', 4, 'boy')\n",
    "scores = dict(zip(testNames,\n",
    "                  (Score(v, p) for v, p in\n",
    "                   zip(['7', '48', '12:52', '17', '14'],\n",
    "                       np.round(np.random.uniform(0, 1,\n",
    "                                                  len(testNames)) * 100, 0)))))\n",
    "cohort_size = 62  # The number of other 4TH grade boys\n",
    "\n",
    "arts = plot_student_results(student, scores, cohort_size)\n",
    "plt.show()"
   ]
  },
  {
   "cell_type": "code",
   "execution_count": null,
   "metadata": {},
   "outputs": [],
   "source": []
  }
 ],
 "metadata": {
  "kernelspec": {
   "display_name": "Python 3",
   "language": "python",
   "name": "python3"
  },
  "language_info": {
   "codemirror_mode": {
    "name": "ipython",
    "version": 3
   },
   "file_extension": ".py",
   "mimetype": "text/x-python",
   "name": "python",
   "nbconvert_exporter": "python",
   "pygments_lexer": "ipython3",
   "version": "3.7.3"
  }
 },
 "nbformat": 4,
 "nbformat_minor": 2
}
