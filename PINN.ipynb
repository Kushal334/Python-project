{
 "cells": [
  {
   "cell_type": "code",
   "execution_count": 1,
   "metadata": {},
   "outputs": [],
   "source": [
    "import tensorflow as tf\n",
    "import numpy as np\n",
    "import matplotlib.pyplot as plt\n",
    "\n",
    "%matplotlib inline"
   ]
  },
  {
   "cell_type": "code",
   "execution_count": 2,
   "metadata": {},
   "outputs": [],
   "source": [
    "class DiffEqRegularization(tf.keras.layers.Layer):\n",
    "    def __init__(self, model):\n",
    "        super(DiffEqRegularization, self).__init__()\n",
    "        self.model = model\n",
    "        \n",
    "    def call(self, x):\n",
    "        with tf.GradientTape() as hess:\n",
    "            with tf.GradientTape() as grad:\n",
    "                hess.watch(x)\n",
    "                grad.watch(x)\n",
    "                \n",
    "                u = self.model(x)\n",
    "                \n",
    "            du_dx = grad.gradient(u, x)\n",
    "            \n",
    "        d2u_dx2 = hess.gradient(du_dx, x)\n",
    "                        \n",
    "        residual = d2u_dx2 - 4 * du_dx - 5 * u\n",
    "        self.add_loss(tf.reduce_mean(tf.square(residual)))\n",
    "        tf.print(\"Residual \", tf.reduce_mean(tf.square(residual)))\n",
    "        \n",
    "        return (u, residual)"
   ]
  },
  {
   "cell_type": "code",
   "execution_count": 3,
   "metadata": {},
   "outputs": [
    {
     "name": "stdout",
     "output_type": "stream",
     "text": [
      "Epoch 1/20\n",
      "Residual  27.2032738\n",
      "1/4 [======>.......................] - ETA: 1s - loss: 27.2033 - diff_eq_regularization_loss: 0.0000e+00 - diff_eq_regularization_1_loss: 0.0000e+00Residual  16.7372398\n",
      "Residual  10.0786276\n",
      "Residual  7.36723042\n",
      "4/4 [==============================] - 0s 4ms/step - loss: 15.3466 - diff_eq_regularization_loss: 0.0000e+00 - diff_eq_regularization_1_loss: 0.0000e+00\n",
      "Epoch 2/20\n",
      "Residual  2.8480792\n",
      "1/4 [======>.......................] - ETA: 0s - loss: 2.8481 - diff_eq_regularization_loss: 0.0000e+00 - diff_eq_regularization_1_loss: 0.0000e+00Residual  1.9838841\n",
      "Residual  1.16852522\n",
      "Residual  0.575160146\n",
      "4/4 [==============================] - 0s 4ms/step - loss: 1.6439 - diff_eq_regularization_loss: 0.0000e+00 - diff_eq_regularization_1_loss: 0.0000e+00\n",
      "Epoch 3/20\n",
      "Residual  0.469566375\n",
      "1/4 [======>.......................] - ETA: 0s - loss: 0.4696 - diff_eq_regularization_loss: 0.0000e+00 - diff_eq_regularization_1_loss: 0.0000e+00Residual  0.309490412\n",
      "Residual  0.314005613\n",
      "Residual  0.10964141\n",
      "4/4 [==============================] - 0s 5ms/step - loss: 0.3007 - diff_eq_regularization_loss: 0.0000e+00 - diff_eq_regularization_1_loss: 0.0000e+00\n",
      "Epoch 4/20\n",
      "Residual  0.167134523\n",
      "1/4 [======>.......................] - ETA: 0s - loss: 0.1671 - diff_eq_regularization_loss: 0.0000e+00 - diff_eq_regularization_1_loss: 0.0000e+00Residual  0.140196681\n",
      "Residual  0.156821907\n",
      "Residual  0.218242839\n",
      "4/4 [==============================] - 0s 5ms/step - loss: 0.1706 - diff_eq_regularization_loss: 0.0000e+00 - diff_eq_regularization_1_loss: 0.0000e+00\n",
      "Epoch 5/20\n",
      "Residual  0.174949586\n",
      "1/4 [======>.......................] - ETA: 0s - loss: 0.1749 - diff_eq_regularization_loss: 0.0000e+00 - diff_eq_regularization_1_loss: 0.0000e+00Residual  0.133924484\n",
      "Residual  0.122816876\n",
      "Residual  0.0717685297\n",
      "4/4 [==============================] - 0s 3ms/step - loss: 0.1259 - diff_eq_regularization_loss: 0.0000e+00 - diff_eq_regularization_1_loss: 0.0000e+00\n",
      "Epoch 6/20\n",
      "Residual  0.151089087\n",
      "1/4 [======>.......................] - ETA: 0s - loss: 0.1511 - diff_eq_regularization_loss: 0.0000e+00 - diff_eq_regularization_1_loss: 0.0000e+00Residual  0.105764449\n",
      "Residual  0.142870039\n",
      "Residual  0.117021047\n",
      "4/4 [==============================] - 0s 4ms/step - loss: 0.1292 - diff_eq_regularization_loss: 0.0000e+00 - diff_eq_regularization_1_loss: 0.0000e+00\n",
      "Epoch 7/20\n",
      "Residual  0.106355727\n",
      "1/4 [======>.......................] - ETA: 0s - loss: 0.1064 - diff_eq_regularization_loss: 0.0000e+00 - diff_eq_regularization_1_loss: 0.0000e+00Residual  0.125798196\n",
      "Residual  0.150480151\n",
      "Residual  0.200476527\n",
      "4/4 [==============================] - 0s 3ms/step - loss: 0.1458 - diff_eq_regularization_loss: 0.0000e+00 - diff_eq_regularization_1_loss: 0.0000e+00\n",
      "Epoch 8/20\n",
      "Residual  0.098119989\n",
      "1/4 [======>.......................] - ETA: 0s - loss: 0.0981 - diff_eq_regularization_loss: 0.0000e+00 - diff_eq_regularization_1_loss: 0.0000e+00Residual  0.14614749\n",
      "Residual  0.151288673\n",
      "Residual  0.114222094\n",
      "4/4 [==============================] - 0s 3ms/step - loss: 0.1274 - diff_eq_regularization_loss: 0.0000e+00 - diff_eq_regularization_1_loss: 0.0000e+00\n",
      "Epoch 9/20\n",
      "Residual  0.120130181\n",
      "1/4 [======>.......................] - ETA: 0s - loss: 0.1201 - diff_eq_regularization_loss: 0.0000e+00 - diff_eq_regularization_1_loss: 0.0000e+00Residual  0.149576128\n",
      "Residual  0.119324289\n",
      "Residual  0.115694068\n",
      "4/4 [==============================] - 0s 4ms/step - loss: 0.1262 - diff_eq_regularization_loss: 0.0000e+00 - diff_eq_regularization_1_loss: 0.0000e+00\n",
      "Epoch 10/20\n",
      "Residual  0.0985855237\n",
      "1/4 [======>.......................] - ETA: 0s - loss: 0.0986 - diff_eq_regularization_loss: 0.0000e+00 - diff_eq_regularization_1_loss: 0.0000e+00Residual  0.174263\n",
      "Residual  0.114545062\n",
      "Residual  0.15968819\n",
      "4/4 [==============================] - 0s 3ms/step - loss: 0.1368 - diff_eq_regularization_loss: 0.0000e+00 - diff_eq_regularization_1_loss: 0.0000e+00\n",
      "Epoch 11/20\n",
      "Residual  0.146599308\n",
      "1/4 [======>.......................] - ETA: 0s - loss: 0.1466 - diff_eq_regularization_loss: 0.0000e+00 - diff_eq_regularization_1_loss: 0.0000e+00Residual  0.102963939\n",
      "Residual  0.121001\n",
      "Residual  0.216572076\n",
      "4/4 [==============================] - 0s 2ms/step - loss: 0.1468 - diff_eq_regularization_loss: 0.0000e+00 - diff_eq_regularization_1_loss: 0.0000e+00\n",
      "Epoch 12/20\n",
      "Residual  0.123768963\n",
      "1/4 [======>.......................] - ETA: 0s - loss: 0.1238 - diff_eq_regularization_loss: 0.0000e+00 - diff_eq_regularization_1_loss: 0.0000e+00Residual  0.144222483\n",
      "Residual  0.118487597\n",
      "Residual  0.160200596\n",
      "4/4 [==============================] - 0s 4ms/step - loss: 0.1367 - diff_eq_regularization_loss: 0.0000e+00 - diff_eq_regularization_1_loss: 0.0000e+00\n",
      "Epoch 13/20\n",
      "Residual  0.135847583\n",
      "1/4 [======>.......................] - ETA: 0s - loss: 0.1358 - diff_eq_regularization_loss: 0.0000e+00 - diff_eq_regularization_1_loss: 0.0000e+00Residual  0.12016914\n",
      "Residual  0.11978595\n",
      "Residual  0.164379269\n",
      "4/4 [==============================] - 0s 3ms/step - loss: 0.1350 - diff_eq_regularization_loss: 0.0000e+00 - diff_eq_regularization_1_loss: 0.0000e+00\n",
      "Epoch 14/20\n",
      "Residual  0.100801334\n",
      "1/4 [======>.......................] - ETA: 0s - loss: 0.1008 - diff_eq_regularization_loss: 0.0000e+00 - diff_eq_regularization_1_loss: 0.0000e+00Residual  0.11997208\n",
      "Residual  0.148673311\n",
      "Residual  0.168557912\n",
      "4/4 [==============================] - 0s 4ms/step - loss: 0.1345 - diff_eq_regularization_loss: 0.0000e+00 - diff_eq_regularization_1_loss: 0.0000e+00\n",
      "Epoch 15/20\n",
      "Residual  0.121251628\n",
      "1/4 [======>.......................] - ETA: 0s - loss: 0.1213 - diff_eq_regularization_loss: 0.0000e+00 - diff_eq_regularization_1_loss: 0.0000e+00Residual  0.159540236\n",
      "Residual  0.105745926\n",
      "Residual  0.0722003132\n",
      "4/4 [==============================] - 0s 3ms/step - loss: 0.1147 - diff_eq_regularization_loss: 0.0000e+00 - diff_eq_regularization_1_loss: 0.0000e+00\n",
      "Epoch 16/20\n",
      "Residual  0.137582541\n",
      "1/4 [======>.......................] - ETA: 0s - loss: 0.1376 - diff_eq_regularization_loss: 0.0000e+00 - diff_eq_regularization_1_loss: 0.0000e+00Residual  0.114535093\n",
      "Residual  0.118071169\n",
      "Residual  0.132491902\n",
      "4/4 [==============================] - 0s 4ms/step - loss: 0.1257 - diff_eq_regularization_loss: 0.0000e+00 - diff_eq_regularization_1_loss: 0.0000e+00\n",
      "Epoch 17/20\n",
      "Residual  0.156920269\n",
      "1/4 [======>.......................] - ETA: 0s - loss: 0.1569 - diff_eq_regularization_loss: 0.0000e+00 - diff_eq_regularization_1_loss: 0.0000e+00Residual  0.111273415\n",
      "Residual  0.107872307\n",
      "Residual  0.164464\n",
      "4/4 [==============================] - 0s 4ms/step - loss: 0.1351 - diff_eq_regularization_loss: 0.0000e+00 - diff_eq_regularization_1_loss: 0.0000e+00\n",
      "Epoch 18/20\n",
      "Residual  0.108186126\n",
      "1/4 [======>.......................] - ETA: 0s - loss: 0.1082 - diff_eq_regularization_loss: 0.0000e+00 - diff_eq_regularization_1_loss: 0.0000e+00Residual  0.118769\n",
      "Residual  0.144754678\n",
      "Residual  0.0996597633\n",
      "4/4 [==============================] - 0s 3ms/step - loss: 0.1178 - diff_eq_regularization_loss: 0.0000e+00 - diff_eq_regularization_1_loss: 0.0000e+00\n",
      "Epoch 19/20\n",
      "Residual  0.106652349\n",
      "1/4 [======>.......................] - ETA: 0s - loss: 0.1067 - diff_eq_regularization_loss: 0.0000e+00 - diff_eq_regularization_1_loss: 0.0000e+00Residual  0.131792217\n",
      "Residual  0.124088831\n",
      "Residual  0.123130634\n",
      "4/4 [==============================] - 0s 3ms/step - loss: 0.1214 - diff_eq_regularization_loss: 0.0000e+00 - diff_eq_regularization_1_loss: 0.0000e+00\n",
      "Epoch 20/20\n",
      "Residual  0.139050558\n",
      "1/4 [======>.......................] - ETA: 0s - loss: 0.1391 - diff_eq_regularization_loss: 0.0000e+00 - diff_eq_regularization_1_loss: 0.0000e+00Residual  0.108992882\n",
      "Residual  0.115412012\n",
      "Residual  0.111796573\n",
      "4/4 [==============================] - 0s 4ms/step - loss: 0.1188 - diff_eq_regularization_loss: 0.0000e+00 - diff_eq_regularization_1_loss: 0.0000e+00\n"
     ]
    }
   ],
   "source": [
    "\n",
    "model = tf.keras.Sequential(\n",
    "    [\n",
    "        tf.keras.layers.Dense(10, input_shape=(1,), activation=\"sigmoid\"),\n",
    "        tf.keras.layers.Dense(1),\n",
    "    ]\n",
    ")\n",
    "\n",
    "x = tf.keras.layers.Input(shape=(1,))\n",
    "u, residual = DiffEqRegularization(model)(x)\n",
    "pinn = tf.keras.Model(inputs=[x], outputs=[u, residual])\n",
    "\n",
    "pinn.compile(loss=[\"mse\", \"mse\"], optimizer=tf.keras.optimizers.SGD(learning_rate=0.001))\n",
    "\n",
    "train_x = np.reshape(np.linspace(0, 1, num=101), (-1, 1))\n",
    "history = pinn.fit(train_x, epochs=20, verbose=1)"
   ]
  },
  {
   "cell_type": "code",
   "execution_count": 4,
   "metadata": {},
   "outputs": [
    {
     "data": {
      "text/plain": [
       "Text(0, 0.5, 'Loss')"
      ]
     },
     "execution_count": 4,
     "metadata": {},
     "output_type": "execute_result"
    },
    {
     "data": {
      "image/png": "[encoded data removed]",
      "text/plain": [
       "<Figure size 432x288 with 1 Axes>"
      ]
     },
     "metadata": {
      "needs_background": "light"
     },
     "output_type": "display_data"
    }
   ],
   "source": [
    "plt.figure()\n",
    "plt.semilogy(history.history[\"loss\"])\n",
    "plt.xlabel(\"Epoch\")\n",
    "plt.ylabel(\"Loss\")"
   ]
  },
  {
   "cell_type": "code",
   "execution_count": 5,
   "metadata": {},
   "outputs": [
    {
     "name": "stdout",
     "output_type": "stream",
     "text": [
      "Residual  0.200024232\n",
      "Residual  0.013551061\n",
      "Residual  0.119591087\n",
      "Residual  0.281558216\n"
     ]
    }
   ],
   "source": [
    "test_x = np.reshape(np.linspace(0, 1, num=101), (-1, 1))\n",
    "true_soln = 1.0/6.0 * np.exp(5*test_x) + 5.0/6.0 * np.exp(-test_x)\n",
    "\n",
    "test_y, _ = pinn.predict(train_x)"
   ]
  },
  {
   "cell_type": "code",
   "execution_count": 6,
   "metadata": {},
   "outputs": [
    {
     "data": {
      "text/plain": [
       "[<matplotlib.lines.Line2D at 0x7fbdb45d6a58>]"
      ]
     },
     "execution_count": 6,
     "metadata": {},
     "output_type": "execute_result"
    },
    {
     "data": {
      "image/png": "[encoded data removed]",
      "text/plain": [
       "<Figure size 432x288 with 1 Axes>"
      ]
     },
     "metadata": {
      "needs_background": "light"
     },
     "output_type": "display_data"
    }
   ],
   "source": [
    "plt.figure()\n",
    "plt.plot(test_x, true_soln, \"-\", label=\"True soln\")\n",
    "plt.plot(test_x, test_y, \"--\", label=\"NN approx\")"
   ]
  },
  {
   "cell_type": "code",
   "execution_count": 7,
   "metadata": {},
   "outputs": [
    {
     "name": "stdout",
     "output_type": "stream",
     "text": [
      "Residual  0.200024232\n",
      "Residual  0.013551061\n",
      "Residual  0.119591087\n",
      "Residual  0.281558216\n"
     ]
    },
    {
     "data": {
      "text/plain": [
       "[array([[-0.3234899 ],\n",
       "        [-0.32101196],\n",
       "        [-0.31853372],\n",
       "        [-0.31605527],\n",
       "        [-0.31357664],\n",
       "        [-0.31109786],\n",
       "        [-0.3086189 ],\n",
       "        [-0.30613995],\n",
       "        [-0.30366108],\n",
       "        [-0.30118215],\n",
       "        [-0.29870322],\n",
       "        [-0.29622442],\n",
       "        [-0.29374576],\n",
       "        [-0.2912674 ],\n",
       "        [-0.2887892 ],\n",
       "        [-0.28631133],\n",
       "        [-0.28383386],\n",
       "        [-0.28135657],\n",
       "        [-0.27887988],\n",
       "        [-0.27640355],\n",
       "        [-0.27392772],\n",
       "        [-0.2714525 ],\n",
       "        [-0.2689777 ],\n",
       "        [-0.26650378],\n",
       "        [-0.2640304 ],\n",
       "        [-0.26155782],\n",
       "        [-0.25908586],\n",
       "        [-0.2566148 ],\n",
       "        [-0.25414455],\n",
       "        [-0.25167522],\n",
       "        [-0.24920684],\n",
       "        [-0.24673939],\n",
       "        [-0.244273  ],\n",
       "        [-0.24180768],\n",
       "        [-0.23934337],\n",
       "        [-0.23688024],\n",
       "        [-0.23441839],\n",
       "        [-0.2319578 ],\n",
       "        [-0.2294983 ],\n",
       "        [-0.22704026],\n",
       "        [-0.2245835 ],\n",
       "        [-0.22212821],\n",
       "        [-0.21967426],\n",
       "        [-0.21722198],\n",
       "        [-0.21477097],\n",
       "        [-0.21232158],\n",
       "        [-0.2098738 ],\n",
       "        [-0.20742783],\n",
       "        [-0.2049835 ],\n",
       "        [-0.20254079],\n",
       "        [-0.20009995],\n",
       "        [-0.19766083],\n",
       "        [-0.19522357],\n",
       "        [-0.19278833],\n",
       "        [-0.19035485],\n",
       "        [-0.18792334],\n",
       "        [-0.18549392],\n",
       "        [-0.18306664],\n",
       "        [-0.18064123],\n",
       "        [-0.17821811],\n",
       "        [-0.17579709],\n",
       "        [-0.1733783 ],\n",
       "        [-0.17096174],\n",
       "        [-0.16854742],\n",
       "        [-0.16613555],\n",
       "        [-0.1637259 ],\n",
       "        [-0.16131878],\n",
       "        [-0.15891407],\n",
       "        [-0.15651174],\n",
       "        [-0.15411204],\n",
       "        [-0.15171476],\n",
       "        [-0.1493201 ],\n",
       "        [-0.14692804],\n",
       "        [-0.14453882],\n",
       "        [-0.14215212],\n",
       "        [-0.13976821],\n",
       "        [-0.1373871 ],\n",
       "        [-0.13500881],\n",
       "        [-0.13263324],\n",
       "        [-0.13026062],\n",
       "        [-0.12789087],\n",
       "        [-0.12552412],\n",
       "        [-0.12316041],\n",
       "        [-0.12079963],\n",
       "        [-0.11844195],\n",
       "        [-0.11608726],\n",
       "        [-0.11373582],\n",
       "        [-0.11138745],\n",
       "        [-0.10904227],\n",
       "        [-0.10670041],\n",
       "        [-0.10436165],\n",
       "        [-0.10202624],\n",
       "        [-0.09969412],\n",
       "        [-0.09736548],\n",
       "        [-0.09504014],\n",
       "        [-0.0927182 ],\n",
       "        [-0.09039974],\n",
       "        [-0.08808474],\n",
       "        [-0.08577327],\n",
       "        [-0.08346531],\n",
       "        [-0.08116101]], dtype=float32), array([[ 0.6295789 ],\n",
       "        [ 0.6166332 ],\n",
       "        [ 0.603703  ],\n",
       "        [ 0.59078926],\n",
       "        [ 0.5778918 ],\n",
       "        [ 0.5650108 ],\n",
       "        [ 0.5521465 ],\n",
       "        [ 0.5392997 ],\n",
       "        [ 0.52647066],\n",
       "        [ 0.5136588 ],\n",
       "        [ 0.50086457],\n",
       "        [ 0.4880885 ],\n",
       "        [ 0.47533065],\n",
       "        [ 0.46259195],\n",
       "        [ 0.4498716 ],\n",
       "        [ 0.43717074],\n",
       "        [ 0.42448926],\n",
       "        [ 0.4118265 ],\n",
       "        [ 0.39918464],\n",
       "        [ 0.3865623 ],\n",
       "        [ 0.3739599 ],\n",
       "        [ 0.36137843],\n",
       "        [ 0.34881705],\n",
       "        [ 0.3362779 ],\n",
       "        [ 0.32375902],\n",
       "        [ 0.31126195],\n",
       "        [ 0.29878592],\n",
       "        [ 0.2863322 ],\n",
       "        [ 0.27390033],\n",
       "        [ 0.261491  ],\n",
       "        [ 0.24910408],\n",
       "        [ 0.23673975],\n",
       "        [ 0.22439867],\n",
       "        [ 0.2120806 ],\n",
       "        [ 0.19978577],\n",
       "        [ 0.18751425],\n",
       "        [ 0.17526716],\n",
       "        [ 0.16304421],\n",
       "        [ 0.15084445],\n",
       "        [ 0.13866991],\n",
       "        [ 0.12651944],\n",
       "        [ 0.11439413],\n",
       "        [ 0.10229325],\n",
       "        [ 0.09021854],\n",
       "        [ 0.07816797],\n",
       "        [ 0.06614304],\n",
       "        [ 0.05414397],\n",
       "        [ 0.0421716 ],\n",
       "        [ 0.03022504],\n",
       "        [ 0.01830435],\n",
       "        [ 0.00641054],\n",
       "        [-0.00545716],\n",
       "        [-0.01729798],\n",
       "        [-0.02911103],\n",
       "        [-0.04089797],\n",
       "        [-0.05265754],\n",
       "        [-0.06438929],\n",
       "        [-0.07609296],\n",
       "        [-0.08776975],\n",
       "        [-0.09941804],\n",
       "        [-0.11103839],\n",
       "        [-0.12263042],\n",
       "        [-0.13419408],\n",
       "        [-0.14572942],\n",
       "        [-0.15723544],\n",
       "        [-0.1687131 ],\n",
       "        [-0.18016124],\n",
       "        [-0.19158036],\n",
       "        [-0.20297074],\n",
       "        [-0.21433103],\n",
       "        [-0.22566235],\n",
       "        [-0.23696381],\n",
       "        [-0.24823552],\n",
       "        [-0.25947654],\n",
       "        [-0.27068824],\n",
       "        [-0.28186947],\n",
       "        [-0.2930203 ],\n",
       "        [-0.30414057],\n",
       "        [-0.3152308 ],\n",
       "        [-0.32628995],\n",
       "        [-0.3373186 ],\n",
       "        [-0.34831607],\n",
       "        [-0.3592823 ],\n",
       "        [-0.3702178 ],\n",
       "        [-0.38112187],\n",
       "        [-0.39199507],\n",
       "        [-0.40283608],\n",
       "        [-0.41364604],\n",
       "        [-0.4244244 ],\n",
       "        [-0.43517047],\n",
       "        [-0.4458856 ],\n",
       "        [-0.45656848],\n",
       "        [-0.4672196 ],\n",
       "        [-0.4778378 ],\n",
       "        [-0.48842448],\n",
       "        [-0.49897903],\n",
       "        [-0.5095008 ],\n",
       "        [-0.5199905 ],\n",
       "        [-0.5304476 ],\n",
       "        [-0.5408726 ],\n",
       "        [-0.55126405]], dtype=float32)]"
      ]
     },
     "execution_count": 7,
     "metadata": {},
     "output_type": "execute_result"
    }
   ],
   "source": [
    "pinn.predict(train_x)"
   ]
  },
  {
   "cell_type": "code",
   "execution_count": 8,
   "metadata": {},
   "outputs": [
    {
     "data": {
      "text/plain": [
       "<KerasTensor: shape=(None, 1) dtype=float32 (created by layer 'dense_input')>"
      ]
     },
     "execution_count": 8,
     "metadata": {},
     "output_type": "execute_result"
    }
   ],
   "source": [
    "pinn.layers[-1].model.input"
   ]
  },
  {
   "cell_type": "code",
   "execution_count": 9,
   "metadata": {},
   "outputs": [
    {
     "data": {
      "text/plain": [
       "{'loss': [15.346592903137207,\n",
       "  1.6439121961593628,\n",
       "  0.3006759583950043,\n",
       "  0.17059898376464844,\n",
       "  0.12586486339569092,\n",
       "  0.12918615341186523,\n",
       "  0.1457776427268982,\n",
       "  0.1274445652961731,\n",
       "  0.12618117034435272,\n",
       "  0.13677044212818146,\n",
       "  0.14678408205509186,\n",
       "  0.13666990399360657,\n",
       "  0.13504549860954285,\n",
       "  0.1345011591911316,\n",
       "  0.11468452215194702,\n",
       "  0.1256701797246933,\n",
       "  0.13513249158859253,\n",
       "  0.11784239113330841,\n",
       "  0.12141600251197815,\n",
       "  0.11881300806999207],\n",
       " 'diff_eq_regularization_loss': [0.0,\n",
       "  0.0,\n",
       "  0.0,\n",
       "  0.0,\n",
       "  0.0,\n",
       "  0.0,\n",
       "  0.0,\n",
       "  0.0,\n",
       "  0.0,\n",
       "  0.0,\n",
       "  0.0,\n",
       "  0.0,\n",
       "  0.0,\n",
       "  0.0,\n",
       "  0.0,\n",
       "  0.0,\n",
       "  0.0,\n",
       "  0.0,\n",
       "  0.0,\n",
       "  0.0],\n",
       " 'diff_eq_regularization_1_loss': [0.0,\n",
       "  0.0,\n",
       "  0.0,\n",
       "  0.0,\n",
       "  0.0,\n",
       "  0.0,\n",
       "  0.0,\n",
       "  0.0,\n",
       "  0.0,\n",
       "  0.0,\n",
       "  0.0,\n",
       "  0.0,\n",
       "  0.0,\n",
       "  0.0,\n",
       "  0.0,\n",
       "  0.0,\n",
       "  0.0,\n",
       "  0.0,\n",
       "  0.0,\n",
       "  0.0]}"
      ]
     },
     "execution_count": 9,
     "metadata": {},
     "output_type": "execute_result"
    }
   ],
   "source": [
    "history.history"
   ]
  },
  {
   "cell_type": "code",
   "execution_count": 10,
   "metadata": {},
   "outputs": [
    {
     "data": {
      "text/plain": [
       "[<tf.Tensor 'model/diff_eq_regularization/Mean:0' shape=() dtype=float32>]"
      ]
     },
     "execution_count": 10,
     "metadata": {},
     "output_type": "execute_result"
    }
   ],
   "source": [
    "\n",
    "pinn.losses"
   ]
  },
  {
   "cell_type": "code",
   "execution_count": null,
   "metadata": {},
   "outputs": [],
   "source": []
  }
 ],
 "metadata": {
  "kernelspec": {
   "display_name": "Python 3",
   "language": "python",
   "name": "python3"
  },
  "language_info": {
   "codemirror_mode": {
    "name": "ipython",
    "version": 3
   },
   "file_extension": ".py",
   "mimetype": "text/x-python",
   "name": "python",
   "nbconvert_exporter": "python",
   "pygments_lexer": "ipython3",
   "version": "3.7.3"
  }
 },
 "nbformat": 4,
 "nbformat_minor": 2
}
